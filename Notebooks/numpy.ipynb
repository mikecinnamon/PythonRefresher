{
  "cells": [
    {
      "cell_type": "markdown",
      "metadata": {
        "id": "view-in-github",
        "colab_type": "text"
      },
      "source": [
        "<a href=\"https://colab.research.google.com/github/mikecinnamon/PythonRefresher/blob/main/Notebooks/numpy.ipynb\" target=\"_parent\"><img src=\"https://colab.research.google.com/assets/colab-badge.svg\" alt=\"Open In Colab\"/></a>"
      ]
    },
    {
      "cell_type": "markdown",
      "id": "965f24af",
      "metadata": {
        "id": "965f24af"
      },
      "source": [
        "# [DS-03] NumPy and Pandas"
      ]
    },
    {
      "cell_type": "markdown",
      "id": "c4982bd1",
      "metadata": {
        "id": "c4982bd1"
      },
      "source": [
        "### NumPy arrays"
      ]
    },
    {
      "cell_type": "code",
      "execution_count": null,
      "id": "ee7efdbc",
      "metadata": {
        "id": "ee7efdbc"
      },
      "outputs": [],
      "source": [
        "import numpy as np\n"
      ]
    },
    {
      "cell_type": "code",
      "execution_count": null,
      "id": "49a6ffcb",
      "metadata": {
        "id": "49a6ffcb"
      },
      "outputs": [],
      "source": [
        "arr1 = np.array([2, 7, 14, 5, 9])\n",
        "arr1"
      ]
    },
    {
      "cell_type": "code",
      "execution_count": null,
      "id": "c30e90b5",
      "metadata": {
        "id": "c30e90b5"
      },
      "outputs": [],
      "source": [
        "arr2 = np.array([[0, 7, 2, 3], [3, 9, -5, 1]])\n",
        "arr2"
      ]
    },
    {
      "cell_type": "code",
      "execution_count": null,
      "id": "ef7009b9",
      "metadata": {
        "id": "ef7009b9"
      },
      "outputs": [],
      "source": [
        "arr1.shape"
      ]
    },
    {
      "cell_type": "code",
      "execution_count": null,
      "id": "2e7d8dde",
      "metadata": {
        "id": "2e7d8dde"
      },
      "outputs": [],
      "source": [
        "arr2.shape"
      ]
    },
    {
      "cell_type": "markdown",
      "id": "091c7fd9",
      "metadata": {
        "id": "091c7fd9"
      },
      "source": [
        "### NumPy functions"
      ]
    },
    {
      "cell_type": "code",
      "execution_count": null,
      "id": "6d8cbf99",
      "metadata": {
        "id": "6d8cbf99"
      },
      "outputs": [],
      "source": [
        "np.sqrt(arr1)"
      ]
    },
    {
      "cell_type": "code",
      "execution_count": null,
      "id": "1cfd2ff7",
      "metadata": {
        "id": "1cfd2ff7"
      },
      "outputs": [],
      "source": [
        "def f(t): return 1/(1 + np.exp(t))"
      ]
    },
    {
      "cell_type": "code",
      "execution_count": null,
      "id": "5e92209f",
      "metadata": {
        "id": "5e92209f"
      },
      "outputs": [],
      "source": [
        "f(arr2)"
      ]
    },
    {
      "cell_type": "markdown",
      "id": "eddcd48f",
      "metadata": {
        "id": "eddcd48f"
      },
      "source": [
        "### Subsetting arrays"
      ]
    },
    {
      "cell_type": "code",
      "execution_count": null,
      "id": "f2dc93d7",
      "metadata": {
        "id": "f2dc93d7"
      },
      "outputs": [],
      "source": [
        "arr1[:3]"
      ]
    },
    {
      "cell_type": "code",
      "execution_count": null,
      "id": "965ffe82",
      "metadata": {
        "id": "965ffe82"
      },
      "outputs": [],
      "source": [
        "arr2[:1, 1:]"
      ]
    },
    {
      "cell_type": "code",
      "execution_count": null,
      "id": "d1f23d97",
      "metadata": {
        "id": "d1f23d97"
      },
      "outputs": [],
      "source": [
        "arr1 > 3"
      ]
    },
    {
      "cell_type": "code",
      "execution_count": null,
      "id": "2b81fe6d",
      "metadata": {
        "id": "2b81fe6d"
      },
      "outputs": [],
      "source": [
        "arr2 > 2"
      ]
    },
    {
      "cell_type": "code",
      "execution_count": null,
      "id": "667a74d7",
      "metadata": {
        "id": "667a74d7"
      },
      "outputs": [],
      "source": [
        "arr1[arr1 > 3]"
      ]
    },
    {
      "cell_type": "code",
      "execution_count": null,
      "id": "2b0339af",
      "metadata": {
        "id": "2b0339af"
      },
      "outputs": [],
      "source": [
        "arr1[[False,  True,  True,  True,  True]]"
      ]
    },
    {
      "cell_type": "markdown",
      "id": "5a1bbabb",
      "metadata": {
        "id": "5a1bbabb"
      },
      "source": [
        "### Pandas series"
      ]
    },
    {
      "cell_type": "code",
      "execution_count": null,
      "id": "0283f5df",
      "metadata": {
        "id": "0283f5df"
      },
      "outputs": [],
      "source": [
        "import pandas as pd"
      ]
    },
    {
      "cell_type": "code",
      "execution_count": null,
      "id": "14bd80a0",
      "metadata": {
        "id": "14bd80a0"
      },
      "outputs": [],
      "source": [
        "s1 = pd.Series(arr1)\n",
        "s1"
      ]
    },
    {
      "cell_type": "code",
      "execution_count": null,
      "id": "0ea193ee",
      "metadata": {
        "id": "0ea193ee"
      },
      "outputs": [],
      "source": [
        "s1.values"
      ]
    },
    {
      "cell_type": "code",
      "execution_count": null,
      "id": "ff34130a",
      "metadata": {
        "id": "ff34130a"
      },
      "outputs": [],
      "source": [
        "s1.index"
      ]
    },
    {
      "cell_type": "code",
      "execution_count": null,
      "id": "3e3d7591",
      "metadata": {
        "id": "3e3d7591"
      },
      "outputs": [],
      "source": [
        "s2 = pd.Series([1, 5, 'Messi'], index = ['a', 'b', 'c'])\n",
        "s2"
      ]
    },
    {
      "cell_type": "code",
      "execution_count": null,
      "id": "7b5e6ad1",
      "metadata": {
        "id": "7b5e6ad1"
      },
      "outputs": [],
      "source": [
        "s2.index"
      ]
    },
    {
      "cell_type": "markdown",
      "id": "4a4cef58",
      "metadata": {
        "id": "4a4cef58"
      },
      "source": [
        "### Pandas data frames"
      ]
    },
    {
      "cell_type": "code",
      "execution_count": null,
      "id": "9e5cc7e0",
      "metadata": {
        "id": "9e5cc7e0"
      },
      "outputs": [],
      "source": [
        "df = pd.DataFrame({'v1': range(5),\n",
        "    'v2': ['a', 'b', 'c', 'd', 'e'],\n",
        "    'v3': np.repeat(-1.3, 5)})\n",
        "df"
      ]
    },
    {
      "cell_type": "code",
      "execution_count": null,
      "id": "02fc1875",
      "metadata": {
        "id": "02fc1875"
      },
      "outputs": [],
      "source": [
        "df.values"
      ]
    },
    {
      "cell_type": "code",
      "execution_count": null,
      "id": "63c51a1c",
      "metadata": {
        "id": "63c51a1c"
      },
      "outputs": [],
      "source": [
        "df.index"
      ]
    },
    {
      "cell_type": "code",
      "execution_count": null,
      "id": "98fe82ca",
      "metadata": {
        "id": "98fe82ca"
      },
      "outputs": [],
      "source": [
        "df.columns"
      ]
    },
    {
      "cell_type": "code",
      "execution_count": null,
      "id": "598c75cd",
      "metadata": {
        "id": "598c75cd"
      },
      "outputs": [],
      "source": [
        "pd.DataFrame(arr2)"
      ]
    },
    {
      "cell_type": "markdown",
      "id": "0faeee3e",
      "metadata": {
        "id": "0faeee3e"
      },
      "source": [
        "### Exploring Pandas objects"
      ]
    },
    {
      "cell_type": "code",
      "execution_count": null,
      "id": "541949e4",
      "metadata": {
        "id": "541949e4"
      },
      "outputs": [],
      "source": [
        "df.head(2)"
      ]
    },
    {
      "cell_type": "code",
      "execution_count": null,
      "id": "ba54e821",
      "metadata": {
        "id": "ba54e821"
      },
      "outputs": [],
      "source": [
        "df.info()"
      ]
    },
    {
      "cell_type": "code",
      "execution_count": null,
      "id": "72e3dc37",
      "metadata": {
        "id": "72e3dc37"
      },
      "outputs": [],
      "source": [
        "df.describe()"
      ]
    },
    {
      "cell_type": "markdown",
      "id": "eda15c4b",
      "metadata": {
        "id": "eda15c4b"
      },
      "source": [
        "### Subsetting data frames"
      ]
    },
    {
      "cell_type": "code",
      "execution_count": null,
      "id": "ad0d1081",
      "metadata": {
        "id": "ad0d1081"
      },
      "outputs": [],
      "source": [
        "df['v2']"
      ]
    },
    {
      "cell_type": "code",
      "execution_count": null,
      "id": "d071bcc0",
      "metadata": {
        "id": "d071bcc0"
      },
      "outputs": [],
      "source": [
        "df[['v1', 'v2']]"
      ]
    },
    {
      "cell_type": "code",
      "execution_count": null,
      "id": "bd41076c",
      "metadata": {
        "id": "bd41076c"
      },
      "outputs": [],
      "source": [
        "df[df['v1'] > 2]"
      ]
    },
    {
      "cell_type": "code",
      "execution_count": null,
      "id": "5aafe19c",
      "metadata": {
        "id": "5aafe19c"
      },
      "outputs": [],
      "source": [
        "df[df['v1'] > 2]['v2']"
      ]
    },
    {
      "cell_type": "markdown",
      "source": [
        "### Plotting with Matplotlib"
      ],
      "metadata": {
        "id": "VrmBcIaUFozU"
      },
      "id": "VrmBcIaUFozU"
    },
    {
      "cell_type": "code",
      "source": [
        "import matplotlib.pyplot as pltº"
      ],
      "metadata": {
        "id": "Z3UfkEboFxgX"
      },
      "id": "Z3UfkEboFxgX",
      "execution_count": null,
      "outputs": []
    },
    {
      "cell_type": "code",
      "source": [
        "t = np.linspace(0, 2, 100)"
      ],
      "metadata": {
        "id": "m0p9TpxpGDnh"
      },
      "id": "m0p9TpxpGDnh",
      "execution_count": null,
      "outputs": []
    },
    {
      "cell_type": "code",
      "source": [
        "plt.figure(figsize=(5,5))\n",
        "plt.title('Figure 1. Three curves')\n",
        "plt.plot(t, t, label='linear', color='black')\n",
        "plt.plot(t, t**2, label='quadratic', color='black', linestyle='dashed')\n",
        "plt.plot(t, t**3, label='cubic', color='black', linestyle='dotted')\n",
        "plt.legend();"
      ],
      "metadata": {
        "id": "SazT8i29GIBd"
      },
      "id": "SazT8i29GIBd",
      "execution_count": null,
      "outputs": []
    }
  ],
  "metadata": {
    "kernelspec": {
      "display_name": "Python 3 (ipykernel)",
      "language": "python",
      "name": "python3"
    },
    "language_info": {
      "codemirror_mode": {
        "name": "ipython",
        "version": 3
      },
      "file_extension": ".py",
      "mimetype": "text/x-python",
      "name": "python",
      "nbconvert_exporter": "python",
      "pygments_lexer": "ipython3",
      "version": "3.10.9"
    },
    "colab": {
      "provenance": [],
      "include_colab_link": true
    }
  },
  "nbformat": 4,
  "nbformat_minor": 5
}