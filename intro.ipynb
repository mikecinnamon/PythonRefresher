{
  "nbformat": 4,
  "nbformat_minor": 0,
  "metadata": {
    "colab": {
      "provenance": [],
      "authorship_tag": "ABX9TyOGl08OPVjz2yJM8QlVBP8g",
      "include_colab_link": true
    },
    "kernelspec": {
      "name": "python3",
      "display_name": "Python 3"
    },
    "language_info": {
      "name": "python"
    }
  },
  "cells": [
    {
      "cell_type": "markdown",
      "metadata": {
        "id": "view-in-github",
        "colab_type": "text"
      },
      "source": [
        "<a href=\"https://colab.research.google.com/github/mikecinnamon/PythonRefresher/blob/main/intro.ipynb\" target=\"_parent\"><img src=\"https://colab.research.google.com/assets/colab-badge.svg\" alt=\"Open In Colab\"/></a>"
      ]
    },
    {
      "cell_type": "markdown",
      "source": [
        "# [PY-01] Introduction to Python"
      ],
      "metadata": {
        "id": "bxY-ScgBdJO1"
      }
    },
    {
      "cell_type": "markdown",
      "source": [
        "### Typing Python code"
      ],
      "metadata": {
        "id": "xzkU9DnsdZae"
      }
    },
    {
      "cell_type": "code",
      "source": [
        "2 + 2"
      ],
      "metadata": {
        "id": "NtFZ91HEdeyd"
      },
      "execution_count": null,
      "outputs": []
    },
    {
      "cell_type": "code",
      "source": [
        "a = 2 + 2"
      ],
      "metadata": {
        "id": "gVfrU7xfdizK"
      },
      "execution_count": null,
      "outputs": []
    },
    {
      "cell_type": "code",
      "source": [
        "a"
      ],
      "metadata": {
        "id": "8aAW9Yyfdnos"
      },
      "execution_count": null,
      "outputs": []
    },
    {
      "cell_type": "code",
      "source": [
        "a = 7 - 2"
      ],
      "metadata": {
        "id": "E5DrHVm5dp7A"
      },
      "execution_count": null,
      "outputs": []
    },
    {
      "cell_type": "code",
      "source": [
        "a"
      ],
      "metadata": {
        "id": "JtS7jWMPdtDn"
      },
      "execution_count": null,
      "outputs": []
    },
    {
      "cell_type": "code",
      "source": [
        "b = 2 * 3\n",
        "b - 1\n",
        "b**2"
      ],
      "metadata": {
        "id": "uHd6Jn9Ddt_S"
      },
      "execution_count": null,
      "outputs": []
    },
    {
      "cell_type": "markdown",
      "source": [
        "### Python packages"
      ],
      "metadata": {
        "id": "pqEWWzJvdwHS"
      }
    },
    {
      "cell_type": "code",
      "source": [
        "import math\n",
        "math.sqrt(2)"
      ],
      "metadata": {
        "id": "6T3lJ2ndd1Lw"
      },
      "execution_count": null,
      "outputs": []
    },
    {
      "cell_type": "code",
      "source": [
        "from math import sqrt\n",
        "sqrt(2)"
      ],
      "metadata": {
        "id": "YYMjMCvqd5Fl"
      },
      "execution_count": null,
      "outputs": []
    },
    {
      "cell_type": "markdown",
      "source": [
        "### Numeric types"
      ],
      "metadata": {
        "id": "UROOMYYteLkA"
      }
    },
    {
      "cell_type": "code",
      "source": [
        "type(a)"
      ],
      "metadata": {
        "id": "ZoPtZ9qbeQ4i"
      },
      "execution_count": null,
      "outputs": []
    },
    {
      "cell_type": "code",
      "source": [
        "type(2.5)"
      ],
      "metadata": {
        "id": "6aYTITgg8YOz"
      },
      "execution_count": null,
      "outputs": []
    },
    {
      "cell_type": "code",
      "source": [
        "type(2)"
      ],
      "metadata": {
        "id": "FrcRtkFK6OvM"
      },
      "execution_count": null,
      "outputs": []
    },
    {
      "cell_type": "code",
      "source": [
        "type(2.0)"
      ],
      "metadata": {
        "id": "phfqu5lof6Hd"
      },
      "execution_count": null,
      "outputs": []
    },
    {
      "cell_type": "code",
      "source": [
        "2 + 2.5"
      ],
      "metadata": {
        "id": "B3svDP8Ef9z9"
      },
      "execution_count": null,
      "outputs": []
    },
    {
      "cell_type": "markdown",
      "source": [
        "### Boolean data"
      ],
      "metadata": {
        "id": "FUytI4oCgDhH"
      }
    },
    {
      "cell_type": "code",
      "source": [
        "d = 5 < a\n",
        "d"
      ],
      "metadata": {
        "id": "JLwcunj5gItW"
      },
      "execution_count": null,
      "outputs": []
    },
    {
      "cell_type": "code",
      "source": [
        "type(d)"
      ],
      "metadata": {
        "id": "MWOf5YvygL0a"
      },
      "execution_count": null,
      "outputs": []
    },
    {
      "cell_type": "code",
      "source": [
        "a == 4"
      ],
      "metadata": {
        "id": "ZD6ZTrK8gOqT"
      },
      "execution_count": null,
      "outputs": []
    },
    {
      "cell_type": "code",
      "source": [
        "math.sqrt(d)"
      ],
      "metadata": {
        "id": "UQ79hYvkgRG4"
      },
      "execution_count": null,
      "outputs": []
    },
    {
      "cell_type": "code",
      "source": [
        "1 - d"
      ],
      "metadata": {
        "id": "eSc9Tj0qhJnU"
      },
      "execution_count": null,
      "outputs": []
    },
    {
      "cell_type": "markdown",
      "source": [
        "### Strings"
      ],
      "metadata": {
        "id": "l-UMMXnGhLf_"
      }
    },
    {
      "cell_type": "code",
      "source": [
        "c = 'Messi'\n",
        "type(c)"
      ],
      "metadata": {
        "id": "2fJIlrJ2hRBh"
      },
      "execution_count": null,
      "outputs": []
    },
    {
      "cell_type": "code",
      "source": [
        "'Leo' + 'Messi'"
      ],
      "metadata": {
        "id": "GVoQZ8hZ8-O5"
      },
      "execution_count": null,
      "outputs": []
    },
    {
      "cell_type": "markdown",
      "source": [
        "### Lists"
      ],
      "metadata": {
        "id": "gAsHs64ShT3c"
      }
    },
    {
      "cell_type": "code",
      "source": [
        "mylist = ['Messi', 'Cristiano', 'Neymar', 'Mbappé']"
      ],
      "metadata": {
        "id": "Vcyj1eUohYUF"
      },
      "execution_count": null,
      "outputs": []
    },
    {
      "cell_type": "code",
      "source": [
        "len(mylist)"
      ],
      "metadata": {
        "id": "F1m8YQ0yhcnm"
      },
      "execution_count": null,
      "outputs": []
    },
    {
      "cell_type": "code",
      "source": [
        "newlist = mylist + [2, 3]\n",
        "newlist"
      ],
      "metadata": {
        "id": "NoMYWO_ahqCk"
      },
      "execution_count": null,
      "outputs": []
    },
    {
      "cell_type": "code",
      "source": [
        "mylist[0:2]"
      ],
      "metadata": {
        "id": "xRNgERgGhyWB"
      },
      "execution_count": null,
      "outputs": []
    },
    {
      "cell_type": "code",
      "source": [
        "mylist[2:]"
      ],
      "metadata": {
        "id": "0H9wgxbsh1Va"
      },
      "execution_count": null,
      "outputs": []
    },
    {
      "cell_type": "code",
      "source": [
        "mylist[:3]"
      ],
      "metadata": {
        "id": "7lF-lhtFh2zs"
      },
      "execution_count": null,
      "outputs": []
    },
    {
      "cell_type": "markdown",
      "source": [
        "### Ranges"
      ],
      "metadata": {
        "id": "vGrg6o0vh5PN"
      }
    },
    {
      "cell_type": "code",
      "source": [
        "myrange = range(0, 10, 2)\n",
        "list(myrange)"
      ],
      "metadata": {
        "id": "6NVTwtERh-mC"
      },
      "execution_count": null,
      "outputs": []
    },
    {
      "cell_type": "code",
      "source": [
        "list(range(5, 12))"
      ],
      "metadata": {
        "id": "cMfPWodiiBi2"
      },
      "execution_count": null,
      "outputs": []
    },
    {
      "cell_type": "code",
      "source": [
        "list(range(10))"
      ],
      "metadata": {
        "id": "JiKDN6F3iDUU"
      },
      "execution_count": null,
      "outputs": []
    },
    {
      "cell_type": "markdown",
      "source": [
        "### Dictionaries"
      ],
      "metadata": {
        "id": "At9oIz6ziFzA"
      }
    },
    {
      "cell_type": "code",
      "source": [
        "my_dict = {'name': 'Joan', 'gender': 'F', 'age': 32}"
      ],
      "metadata": {
        "id": "akZKUv72iJe7"
      },
      "execution_count": null,
      "outputs": []
    },
    {
      "cell_type": "markdown",
      "source": [
        "### Functions"
      ],
      "metadata": {
        "id": "IhDbiB6liT0x"
      }
    },
    {
      "cell_type": "code",
      "source": [
        "def f(x):\n",
        "    y = 1/(1 - x**2)\n",
        "    return y"
      ],
      "metadata": {
        "id": "1uMt8Qi-iZEw"
      },
      "execution_count": null,
      "outputs": []
    },
    {
      "cell_type": "code",
      "source": [
        "f(2)"
      ],
      "metadata": {
        "id": "VAs05g1DiZst"
      },
      "execution_count": null,
      "outputs": []
    },
    {
      "cell_type": "code",
      "source": [
        "f(1)"
      ],
      "metadata": {
        "id": "Nk8kG-lhic3S"
      },
      "execution_count": null,
      "outputs": []
    },
    {
      "cell_type": "code",
      "source": [
        "f('Mary')"
      ],
      "metadata": {
        "id": "KngbXRByieDh"
      },
      "execution_count": null,
      "outputs": []
    },
    {
      "cell_type": "code",
      "source": [
        "def g(x, y): return x*y/(x**2 + y**2)\n",
        "g(1, 1)"
      ],
      "metadata": {
        "id": "YRk3ck4digHr"
      },
      "execution_count": null,
      "outputs": []
    }
  ]
}
